{
 "cells": [
  {
   "cell_type": "markdown",
   "metadata": {},
   "source": [
    "**Ejercicio 3 - Intolerancia a la lactosa**: La intolerancia a la lactosa provoca dificultad para digerir los productos lácteos que contienen lactosa (azúcar de la leche). Es particularmente común entre las personas de ascendencia africana y asiática. En Estados Unidos (desconociendo otros grupos y personas que se consideran pertenecientes a más de una raza), el 82% de la población es blanca, el 14% es negra y el 4% es asiática. Además, el 15 % de los blancos, el 70 % de los negros y el 90 % de los asiáticos son intolerantes a la lactosa.\n",
    "1. Identifique cada uno de los eventos asociados al problema.\n",
    "2. Teniendo en cuenta los eventos encontrados en el numeral anterior, dibuje el diagrama de arbol del problema.\n",
    "3. ¿Qué porcentaje de la población total es intolerante a la lactosa? (**Rta**: 0.257)\n",
    "4. ¿Qué porcentaje de personas que son intolerantes a la lactosa son asiáticos? (**Rta**: 0.1401)"
   ]
  }
 ],
 "metadata": {
  "language_info": {
   "name": "python"
  },
  "orig_nbformat": 4
 },
 "nbformat": 4,
 "nbformat_minor": 2
}
