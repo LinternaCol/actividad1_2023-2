{
 "cells": [
  {
   "cell_type": "markdown",
   "metadata": {},
   "source": [
    "**Ejercicio 6**: Los siguientes son datos reales del condado de Santa Clara, CA. Hasta cierto momento, había un total de 3059 casos documentados de SIDA en el condado. Se agruparon en las siguientes categorías:\n",
    "\n",
    "||Homosexual/bisexual| Consumidor de drogas por vía intravenosa|\tContacto heterosexual|Otros|Totales|\n",
    "|---|---|---|---|---|---|\n",
    "|Mujeres|0|\t70|\t136|\t49|\t|\n",
    "|Hombres|\t2146|\t463|\t60|\t135||\n",
    "|Totales||||||\n",
    "\n",
    "Supongamos que se selecciona al azar una persona con SIDA en el condado de Santa Clara.\n",
    "1. Calcule **P(la persona es mujer)**. (**Rta**: 255/3059).\n",
    "2. Calcule **P(La persona tiene un factor de riesgo contacto heterosexual)**. (**Rta**: 196/3059).\n",
    "3. Calcule **P(La persona es mujer O tiene un factor de riesgo de usuario de drogas intravenosas)**. (**Rta**: 718/3059).\n",
    "4. Calcule **P(La persona es mujer Y tiene un factor de riesgo homosexual/bisexual)**. (**Rta**: 0).\n",
    "5. Calcule **P(La persona es hombre Y tiene un factor de riesgo de consumidor de drogas por vía intravenosa)**. (**Rta**: 463/3059).\n",
    "6. Calcule **P(La persona DADA es una mujer se contagió de la enfermedad por contacto heterosexual)**. (**Rta**: 136/196).\n"
   ]
  }
 ],
 "metadata": {
  "language_info": {
   "name": "python"
  },
  "orig_nbformat": 4
 },
 "nbformat": 4,
 "nbformat_minor": 2
}
