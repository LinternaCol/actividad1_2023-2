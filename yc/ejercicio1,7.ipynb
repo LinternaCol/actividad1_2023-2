{
 "cells": [
  {
   "cell_type": "markdown",
   "metadata": {},
   "source": [
    "**Ejercicio 1 - VIH testing**: Las pruebas de inmunoensayo enzimático (EIA) se utilizan para detectar la presencia de anticuerpos contra el VIH, el virus que causa el SIDA, en muestras de sangre. Los anticuerpos indican la presencia del virus. La prueba es bastante precisa, pero no siempre es correcta. Estas son las probabilidades aproximadas de resultados positivos y negativos de EIA cuando la sangre analizada contiene y no contiene anticuerpos contra el VIH.\n",
    "\n",
    "||Resultado positivo (+)|Resultado negativo (-)|\n",
    "|---|---|---|\n",
    "|Anticuertos presentes| 0.9985| 0.0015|\n",
    "|Anticuerpos ausentes |0.006| 0.994|\n",
    "\n",
    "Suponga que el 1% de una gran población porta anticuerpos del VIH en su sangre.\n",
    "\n",
    "1. Determine cada uno de los eventos de manera clara.\n",
    "2. Dibuje un diagrama de árbol para seleccionar una persona de esta población (**resultados**: anticuerpos presentes o ausentes) y para analizar su sangre (**resultados**: EIA positivo o negativo).\n",
    "3. ¿Cuál es la probabilidad de que la prueba EIA sea positiva para una persona de esta poblacion elegida al azar? (**Rta**: 0.015925)\n",
    "4. ¿Cuál es la probabilidad de que una persona tenga la anticuerpo dado que la prueba EIA es positiva? (**Rta**: 0.6270)\n",
    "\n",
    "**Ejercicio 7**: En un año anterior, los pesos de los miembros de los **San Francisco 49ers** y los **Dallas Cowboys** se publicaron en el *The Mercury News de San José*. Los datos fácticos se recopilaron en la siguiente tabla.\n",
    "\n",
    "|N.º de camisa|\t≤ 210|\t211–250|\t251–290\t|> 290|\n",
    "|---|---|---|---|---|\n",
    "|1–33|\t21|\t5|\t0|\t0|\n",
    "|34–66|\t6|\t18|\t7| 4|\n",
    "|66–99|\t6|\t12|\t22|\t5|\n",
    "\n",
    "Para lo siguiente, suponga que selecciona al azar un jugador de los 49ers o de los Cowboys.\n",
    "1. Calcule la probabilidad de que el número de su camiseta sea del 1 al 33. (**Rta**: 26/106)\n",
    "2. Calcule la probabilidad de que pese como máximo 210 libras. (**Rta**: 33/106)\n",
    "3. Calcule la probabilidad de que el número de su camisa esté entre el 1 y el 33 **Y** que pese como máximo 210 libras. (**Rta**: 21/106)\n",
    "4. Calcule la probabilidad de que el número de su camisa sea del 1 al 33 **O** que pese como máximo 210 libras. (**Rta**: 38/106)\n",
    "5. Calcule la probabilidad de que el número de su camisa sea del 1 al 33, **DADO** que pesa como máximo 210 libras. (**Rta**: 21/33)\n",
    "\n",
    "\n",
    "\n",
    "\n"
   ]
  },
  {
   "cell_type": "markdown",
   "metadata": {},
   "source": []
  }
 ],
 "metadata": {
  "kernelspec": {
   "display_name": "Python 3",
   "language": "python",
   "name": "python3"
  },
  "language_info": {
   "codemirror_mode": {
    "name": "ipython",
    "version": 3
   },
   "file_extension": ".py",
   "mimetype": "text/x-python",
   "name": "python",
   "nbconvert_exporter": "python",
   "pygments_lexer": "ipython3",
   "version": "3.10.8"
  },
  "orig_nbformat": 4
 },
 "nbformat": 4,
 "nbformat_minor": 2
}
