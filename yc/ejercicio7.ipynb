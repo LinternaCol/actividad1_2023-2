{
 "cells": [
  {
   "cell_type": "markdown",
   "metadata": {},
   "source": [
    "**Ejercicio 7**: En un año anterior, los pesos de los miembros de los **San Francisco 49ers** y los **Dallas Cowboys** se publicaron en el *The Mercury News de San José*. Los datos fácticos se recopilaron en la siguiente tabla.\n",
    "\n",
    "|N.º de camisa|\t≤ 210|\t211–250|\t251–290\t|> 290|\n",
    "|---|---|---|---|---|\n",
    "|1–33|\t21|\t5|\t0|\t0|\n",
    "|34–66|\t6|\t18|\t7| 4|\n",
    "|66–99|\t6|\t12|\t22|\t5|\n",
    "\n",
    "Para lo siguiente, suponga que selecciona al azar un jugador de los 49ers o de los Cowboys.\n",
    "1. Calcule la probabilidad de que el número de su camiseta sea del 1 al 33. (**Rta**: 26/106)\n",
    "2. Calcule la probabilidad de que pese como máximo 210 libras. (**Rta**: 33/106)\n",
    "3. Calcule la probabilidad de que el número de su camisa esté entre el 1 y el 33 **Y** que pese como máximo 210 libras. (**Rta**: 21/106)\n",
    "4. Calcule la probabilidad de que el número de su camisa sea del 1 al 33 **O** que pese como máximo 210 libras. (**Rta**: 38/106)\n",
    "5. Calcule la probabilidad de que el número de su camisa sea del 1 al 33, **DADO** que pesa como máximo 210 libras. (**Rta**: 21/33)"
   ]
  },
  {
   "cell_type": "markdown",
   "metadata": {},
   "source": []
  }
 ],
 "metadata": {
  "language_info": {
   "name": "python"
  },
  "orig_nbformat": 4
 },
 "nbformat": 4,
 "nbformat_minor": 2
}
